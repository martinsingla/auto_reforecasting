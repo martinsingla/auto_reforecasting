{
 "cells": [
  {
   "cell_type": "code",
   "execution_count": 84,
   "id": "bfd8ab52",
   "metadata": {},
   "outputs": [],
   "source": [
    "import pandas as pd\n",
    "import numpy as np\n",
    "import requests\n",
    "import json\n",
    "import time\n",
    "\n",
    "from prophet import Prophet\n",
    "from functions import forecast_pib\n",
    "from keys import token_inegi, token_banxico"
   ]
  },
  {
   "cell_type": "code",
   "execution_count": 79,
   "id": "5273ba38",
   "metadata": {},
   "outputs": [
    {
     "name": "stdout",
     "output_type": "stream",
     "text": [
      "00 - Checking last INEGI records\n",
      "...\n"
     ]
    },
    {
     "name": "stderr",
     "output_type": "stream",
     "text": [
      "INFO:prophet:Disabling weekly seasonality. Run prophet with weekly_seasonality=True to override this.\n",
      "INFO:prophet:Disabling daily seasonality. Run prophet with daily_seasonality=True to override this.\n"
     ]
    },
    {
     "name": "stdout",
     "output_type": "stream",
     "text": [
      "... Last YQ has not changed. Forecasting with last registered values\n",
      "01 - forecasting INEGI records...\n",
      "02 - Getting BANXICOs latest macro expectations survey data\n",
      "03 - Adjusting naive forecasts to BANXICOs data\n",
      "04 - Forecasts complete!\n"
     ]
    }
   ],
   "source": [
    "####################################################################\n",
    "#### Query and forecast GDP total values using previously defined\n",
    "#### function. Values are afterwards going  to be used to forecast \n",
    "#### industrial GDP.\n",
    "####################################################################\n",
    "\n",
    "print('0.00 - Calculating GDP forecasts')\n",
    "print('-----')\n",
    "pib= forecast_pib()"
   ]
  },
  {
   "cell_type": "code",
   "execution_count": 22,
   "id": "766c7034",
   "metadata": {},
   "outputs": [],
   "source": [
    "####################################################################\n",
    "#### This file is used to check which is the last recorded quarter \n",
    "#### from previous forecasts. If a new record is observed, then the\n",
    "#### file is updated and everything gets re-forecasted.\n",
    "####################################################################\n",
    "\n",
    "print('-----')\n",
    "print('1.00 - Checking las INEGI records')\n",
    "\n",
    "#Import INEGI Last Values file\n",
    "lv= pd.read_csv('INEGI_LastValues.csv')\n",
    "\n",
    "#Last records\n",
    "last_year_record= int(lv[(lv['Var'] == 'PIB_Industrial') & (lv['timestamp'] == lv.loc[lv['Var'] == 'PIB_Industrial', 'timestamp'].max())]['Y'])\n",
    "last_quarter_record= int(lv[(lv['Var'] == 'PIB_Industrial') & (lv['timestamp'] == lv.loc[lv['Var'] == 'PIB_Industrial', 'timestamp'].max())]['Q'])"
   ]
  },
  {
   "cell_type": "code",
   "execution_count": 81,
   "id": "28527753",
   "metadata": {},
   "outputs": [
    {
     "name": "stdout",
     "output_type": "stream",
     "text": [
      "2.00 - Querying INEGI for new Industrial GDP data\n",
      "----\n",
      "Year is same, but new Q data published. Forecasting with new quarter data\n",
      "Updating INEGI_LastValues.csv file\n",
      "----\n",
      "3.00 - Calculating dependent variable\n"
     ]
    }
   ],
   "source": [
    "####################################################################\n",
    "#### Query INEGI's API to get latest macroeconomic data for GDP, \n",
    "#### industrial GDP and Investment. If new data is identified,\n",
    "#### leave a new record in INEGI_LastValues.csv\n",
    "####################################################################\n",
    "\n",
    "print('2.00 - Querying INEGI for new Industrial GDP data')\n",
    "\n",
    "#Query\n",
    "query= f'https://www.inegi.org.mx/app/api/indicadores/desarrolladores/jsonxml/INDICATOR/6207062155/es/0700/false/BISE/2.0/{token_inegi}?type=json'\n",
    "response= requests.get(query)\n",
    "\n",
    "#Transform JSON to dataframe\n",
    "dat= pd.json_normalize(response.json()['Series'][0]['OBSERVATIONS']).rename(columns= {'OBS_VALUE': 'pib_industrial_var_anual'})\n",
    "\n",
    "dat['y']= pd.to_numeric([dat['TIME_PERIOD'][i].split('/')[0] for i in range(0, len(dat))])\n",
    "dat['q']= pd.to_numeric([dat['TIME_PERIOD'][i].split('/')[1] for i in range(0, len(dat))])\n",
    "dat['pib_industrial_var_anual']= pd.to_numeric(dat['pib_industrial_var_anual'])\n",
    "dat['yq']= [str(dat['y'][i])+'Q'+str(dat['q'][i]) for i in range(0, len(dat))]\n",
    "\n",
    "########################\n",
    "#Check that last observation is the one registered \n",
    "#If new observations are published, then update INEGI_lastValues.py file\n",
    "\n",
    "y_check= dat.iloc[-1, -3] == last_year_record #Year check\n",
    "q_check= dat.iloc[-1, -2] == last_quarter_record #Quarter check\n",
    "\n",
    "#Validation and updates\n",
    "if (y_check == True) & (q_check == True):\n",
    "    print('----')\n",
    "    print('Last YQ has not changed. Forecasting with last registered values')\n",
    "    \n",
    "    pib_lastValue = [dat.iloc[-1, -3], dat.iloc[-1, -2]]\n",
    "\n",
    "elif (y_check == True) & (q_check == False):\n",
    "    print('----')\n",
    "    print('Year is same, but new Q data published. Forecasting with new quarter data')\n",
    "    print('Updating INEGI_LastValues.csv file')\n",
    "    \n",
    "    lv= lv.append({'Var': 'PIB', \n",
    "                   'Y': dat.iloc[-1, -3], \n",
    "                   'Q': dat.iloc[-1, -2], \n",
    "                   'timestamp': time.time()}, ignore_index= True)\n",
    "    lv.to_csv('INEGI_LastValues.csv', index= False)\n",
    "        \n",
    "    pib_lastValue = [dat.iloc[-1, -3], dat.iloc[-1, -2]]\n",
    "        \n",
    "elif (y_check == False):\n",
    "    print('----')\n",
    "    print('New year, new data published. Forecasting with new quarter data')\n",
    "    print('Updating INEGI_LastValues.csv file')\n",
    "    \n",
    "    lv= lv.append({'Var': 'PIB', \n",
    "                   'Y': dat.iloc[-1, -3], \n",
    "                   'Q': dat.iloc[-1, -2], \n",
    "                   'timestamp': time.time()}, ignore_index= True)\n",
    "    lv.to_csv('INEGI_LastValues.csv', index= False)\n",
    "        \n",
    "    pib_lastValue = [dat.iloc[-1, -3], dat.iloc[-1, -2]]\n",
    "\n",
    "########################\n",
    "##Filter selected columns\n",
    "print('----')\n",
    "print('3.00 - Calculating dependent variable')\n",
    "\n",
    "dat= dat[['yq', 'pib_industrial_var_anual']]\n",
    "\n",
    "#Can only obtain % yoy variation values from INEGI's API, so here are base absolute values\n",
    "base_1993= [1689645.0, 1665390.7, 1653018.0, 1715589.1]\n",
    "\n",
    "#Calculate remaining absolute values\n",
    "dat['pib_industrial_abs'] = np.nan\n",
    "dat.iloc[0:4, -1] = base_1993\n",
    "for i in range(4, len(dat)):\n",
    "    dat.iloc[i, -1] = dat.iloc[i-4, -1] * (1+ dat.iloc[i, -2] / 100)\n",
    "\n",
    "#Attaching PIB total absolute values (query from previous function)\n",
    "index= pib.loc[(pib['year'] == pib_lastValue[0]) & (pib['quarter'] == pib_lastValue[1]), ].index[0]\n",
    "dat['pib'] = pib.iloc[:index+1,-1]\n",
    "\n",
    "#calculate Dependent variable (pct share of industrial gdp)\n",
    "dat['pct_pib_secondary_industrial'] = dat['pib_industrial_abs'] / dat['pib']\n",
    "dat= dat[['yq', 'pct_pib_secondary_industrial']]"
   ]
  },
  {
   "cell_type": "code",
   "execution_count": null,
   "id": "654e9c8b",
   "metadata": {},
   "outputs": [],
   "source": []
  },
  {
   "cell_type": "code",
   "execution_count": null,
   "id": "09e13234",
   "metadata": {},
   "outputs": [],
   "source": []
  },
  {
   "cell_type": "code",
   "execution_count": null,
   "id": "d7110150",
   "metadata": {},
   "outputs": [],
   "source": []
  },
  {
   "cell_type": "code",
   "execution_count": 109,
   "id": "dfaf2f46",
   "metadata": {},
   "outputs": [
    {
     "name": "stderr",
     "output_type": "stream",
     "text": [
      "INFO:prophet:Disabling weekly seasonality. Run prophet with weekly_seasonality=True to override this.\n",
      "INFO:prophet:Disabling daily seasonality. Run prophet with daily_seasonality=True to override this.\n"
     ]
    }
   ],
   "source": [
    "####################################################################\n",
    "#### Facebook Prophet model to forecast automatically GDP growth\n",
    "#### based on new historic recors , towards 2032\n",
    "####################################################################\n",
    "\n",
    "#Prepare data\n",
    "ts= dat[['yq', 'pct_pib_secondary_industrial']][66:].rename(columns= {'yq': 'ds',  'pct_pib_secondary_industrial': 'y'})\n",
    "ts['ds'] = pd.PeriodIndex(ts['ds'], freq='Q').to_timestamp()\n",
    "ts['cap'] = 0.165\n",
    "ts['floor'] = 0.155\n",
    "\n",
    "#Fit Model\n",
    "m= Prophet(growth = 'logistic')\n",
    "m.fit(ts)\n",
    "\n",
    "#Forecast period\n",
    "#Remaining quarters of the year to be forecasted\n",
    "if pib_lastValue[1] == 1:\n",
    "    remaining_qs = [str(pib_lastValue[0])+i for i in ['Q2', 'Q3', 'Q4']]\n",
    "elif pib_lastValue[1] == 2:\n",
    "    remaining_qs = [str(pib_lastValue[0])+i for i in ['Q3', 'Q4']]\n",
    "elif pib_lastValue[1] == 3:\n",
    "    remaining_qs = [str(pib_lastValue[0])+i for i in ['Q4']]\n",
    "else:\n",
    "    remaining_qs = []\n",
    "\n",
    "#Next years to be forecasted\n",
    "future_ds= np.append(remaining_qs, \n",
    "                     [str(y)+q for y in range(pib_lastValue[0] + 1, 2033) for q in ['Q1', 'Q2', 'Q3', 'Q4']])\n",
    "\n",
    "#Forecast to 2023\n",
    "future= pd.DataFrame(columns=['ds'])\n",
    "future['ds']= pd.PeriodIndex(future_ds, freq='Q').to_timestamp()\n",
    "future['cap'] = 0.168\n",
    "future['floor'] = 0.155\n",
    "forecast = m.predict(future)\n",
    "\n",
    "#Integrate historic w/ forecast dataframes\n",
    "fnl= pd.DataFrame(columns= ['ds', 'y', 'yhat'])\n",
    "fnl['ds'] = pd.PeriodIndex(ts['ds'], freq='Q')\n",
    "fnl['y'] = ts['y'].reset_index(drop=True)\n",
    "\n",
    "forecast['y'] = np.nan\n",
    "forecast['ds'] = pd.PeriodIndex(forecast['ds'], freq='Q')\n",
    "f= forecast[['ds', 'y', 'yhat']]\n",
    "\n",
    "fnl= pd.concat([fnl, f]).reset_index(drop= True)\n",
    "fnl['year'] = pd.PeriodIndex(fnl['ds'], freq='Q').year\n",
    "fnl['quarter'] = pd.PeriodIndex(fnl['ds'], freq='Q').quarter\n",
    "\n",
    "index_cut= fnl[(fnl['year'] == pib_lastValue[0]) & (fnl['quarter'] == pib_lastValue[1])].index[0]\n",
    "fnl['full'] = np.append(fnl.iloc[:index_cut+1, 1], \n",
    "                        fnl.iloc[index_cut+1:, 2])\n",
    "\n",
    "## Ajustes en predicciones de Q2s por debajo de la media historica de Q2\n",
    "q2 = fnl[(fnl['y'].notna()) & (fnl['year'] > 2009)].groupby('quarter')['y'].mean()[2]\n",
    "fnl.loc[(fnl['y'].isna()) & (fnl['quarter'] == 2) & (fnl['yhat'] < q2), 'yhat'] = q2"
   ]
  },
  {
   "cell_type": "code",
   "execution_count": 110,
   "id": "1ecdd200",
   "metadata": {},
   "outputs": [
    {
     "data": {
      "text/plain": [
       "<AxesSubplot:>"
      ]
     },
     "execution_count": 110,
     "metadata": {},
     "output_type": "execute_result"
    },
    {
     "data": {
      "image/png": "[encoded data removed]",
      "text/plain": [
       "<Figure size 1008x504 with 1 Axes>"
      ]
     },
     "metadata": {
      "needs_background": "light"
     },
     "output_type": "display_data"
    }
   ],
   "source": [
    "fnl[['y', 'yhat']].plot(figsize= (14,7))"
   ]
  },
  {
   "cell_type": "code",
   "execution_count": 113,
   "id": "c2df4ae7",
   "metadata": {},
   "outputs": [
    {
     "data": {
      "text/html": [
       "<div>\n",
       "<style scoped>\n",
       "    .dataframe tbody tr th:only-of-type {\n",
       "        vertical-align: middle;\n",
       "    }\n",
       "\n",
       "    .dataframe tbody tr th {\n",
       "        vertical-align: top;\n",
       "    }\n",
       "\n",
       "    .dataframe thead th {\n",
       "        text-align: right;\n",
       "    }\n",
       "</style>\n",
       "<table border=\"1\" class=\"dataframe\">\n",
       "  <thead>\n",
       "    <tr style=\"text-align: right;\">\n",
       "      <th></th>\n",
       "      <th>year</th>\n",
       "      <th>quarter</th>\n",
       "      <th>full</th>\n",
       "    </tr>\n",
       "  </thead>\n",
       "  <tbody>\n",
       "    <tr>\n",
       "      <th>0</th>\n",
       "      <td>2009</td>\n",
       "      <td>3</td>\n",
       "      <td>0.156161</td>\n",
       "    </tr>\n",
       "    <tr>\n",
       "      <th>1</th>\n",
       "      <td>2009</td>\n",
       "      <td>4</td>\n",
       "      <td>0.156627</td>\n",
       "    </tr>\n",
       "    <tr>\n",
       "      <th>2</th>\n",
       "      <td>2010</td>\n",
       "      <td>1</td>\n",
       "      <td>0.160132</td>\n",
       "    </tr>\n",
       "    <tr>\n",
       "      <th>3</th>\n",
       "      <td>2010</td>\n",
       "      <td>2</td>\n",
       "      <td>0.160368</td>\n",
       "    </tr>\n",
       "    <tr>\n",
       "      <th>4</th>\n",
       "      <td>2010</td>\n",
       "      <td>3</td>\n",
       "      <td>0.162219</td>\n",
       "    </tr>\n",
       "    <tr>\n",
       "      <th>...</th>\n",
       "      <td>...</td>\n",
       "      <td>...</td>\n",
       "      <td>...</td>\n",
       "    </tr>\n",
       "    <tr>\n",
       "      <th>89</th>\n",
       "      <td>2031</td>\n",
       "      <td>4</td>\n",
       "      <td>0.157113</td>\n",
       "    </tr>\n",
       "    <tr>\n",
       "      <th>90</th>\n",
       "      <td>2032</td>\n",
       "      <td>1</td>\n",
       "      <td>0.163097</td>\n",
       "    </tr>\n",
       "    <tr>\n",
       "      <th>91</th>\n",
       "      <td>2032</td>\n",
       "      <td>2</td>\n",
       "      <td>0.157322</td>\n",
       "    </tr>\n",
       "    <tr>\n",
       "      <th>92</th>\n",
       "      <td>2032</td>\n",
       "      <td>3</td>\n",
       "      <td>0.163269</td>\n",
       "    </tr>\n",
       "    <tr>\n",
       "      <th>93</th>\n",
       "      <td>2032</td>\n",
       "      <td>4</td>\n",
       "      <td>0.157446</td>\n",
       "    </tr>\n",
       "  </tbody>\n",
       "</table>\n",
       "<p>94 rows × 3 columns</p>\n",
       "</div>"
      ],
      "text/plain": [
       "    year  quarter      full\n",
       "0   2009        3  0.156161\n",
       "1   2009        4  0.156627\n",
       "2   2010        1  0.160132\n",
       "3   2010        2  0.160368\n",
       "4   2010        3  0.162219\n",
       "..   ...      ...       ...\n",
       "89  2031        4  0.157113\n",
       "90  2032        1  0.163097\n",
       "91  2032        2  0.157322\n",
       "92  2032        3  0.163269\n",
       "93  2032        4  0.157446\n",
       "\n",
       "[94 rows x 3 columns]"
      ]
     },
     "execution_count": 113,
     "metadata": {},
     "output_type": "execute_result"
    }
   ],
   "source": [
    "fnl[['year', 'quarter', 'full']]"
   ]
  }
 ],
 "metadata": {
  "kernelspec": {
   "display_name": "Python 3 (ipykernel)",
   "language": "python",
   "name": "python3"
  },
  "language_info": {
   "codemirror_mode": {
    "name": "ipython",
    "version": 3
   },
   "file_extension": ".py",
   "mimetype": "text/x-python",
   "name": "python",
   "nbconvert_exporter": "python",
   "pygments_lexer": "ipython3",
   "version": "3.9.7"
  }
 },
 "nbformat": 4,
 "nbformat_minor": 5
}
